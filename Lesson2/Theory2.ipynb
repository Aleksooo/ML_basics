{
 "cells": [
  {
   "cell_type": "markdown",
   "metadata": {},
   "source": [
    "# Линейная регрессия\n",
    "---"
   ]
  },
  {
   "cell_type": "markdown",
   "metadata": {},
   "source": [
    "1) Простая\n",
    "2) Используется в других более сложных алгоритмов"
   ]
  },
  {
   "cell_type": "markdown",
   "metadata": {},
   "source": [
    "### Рассмотрим матрицу объектов-признаков\n",
    "$$ \n",
    " X = \\begin{pmatrix}\n",
    "  x_1^1   & \\cdots & x_1^p \\\\\n",
    "  \\vdots  & \\ddots & \\vdots  \\\\\n",
    "  x_k^1   & \\cdots & x_k^p \n",
    " \\end{pmatrix}\n",
    "$$\n",
    "\n",
    "k - количество объектов; p - количество признаков\n",
    "\n",
    "$$\\hat{y} = \\omega_0 + \\sum_{j=1}^p \\omega_j x_i^j = \\omega^Tx$$\n",
    "\n",
    "$\\omega_0$ - bias\n",
    "\n",
    "Хотим сделать так, чтобы $\\hat{y} \\approx y$\n"
   ]
  },
  {
   "cell_type": "markdown",
   "metadata": {},
   "source": [
    "### Функция ошибки\n",
    "$\\text{Loss} = \\| \\hat{y} - y \\|_2^2 = \\text{MSE}$"
   ]
  },
  {
   "cell_type": "markdown",
   "metadata": {},
   "source": [
    "### Решение нормального уравнения напрямую\n",
    "$$ Y = X \\omega $$\n",
    "$$ X^T Y = (X^TX)\\omega $$\n",
    "$$ (X^TX)^{-1}X^T Y = \\omega $$\n",
    "\n",
    "Но есть проблемы!!! Надо находить обратное, а это можно сделать не всегда. <br />"
   ]
  },
  {
   "cell_type": "markdown",
   "metadata": {},
   "source": [
    "### Способы с этим бороться\n",
    "\n",
    "1) Регаляризация — чуть-чуть меняем матрицу, чтобы можно было легко найти обратную\n",
    "$$ \\boxed{(X^TX + \\lambda I)^{-1}X^T Y = \\omega} $$\n",
    "2) Градиентый спуск — минимизирует Loss функцию\n",
    "$$ L = \\sum_{i=1}^k \\left( y_i - (\\omega_0 + \\sum_{j=1}^p \\omega_j x_i^j) \\right)^2 $$\n",
    "$$ \\omega^{init} = random \\ \\to \\ \\omega_j^1 = \\omega_j^0 - \\eta \\frac{\\partial L}{\\partial \\omega_j^0} \\ \\to \\ \\omega_j^2 = \\omega_j^1 - \\eta \\frac{\\partial L}{\\partial \\omega_j^1} \\ \\to \\ \\dots$$"
   ]
  },
  {
   "cell_type": "code",
   "execution_count": null,
   "metadata": {},
   "outputs": [],
   "source": []
  }
 ],
 "metadata": {
  "kernelspec": {
   "display_name": ".venv",
   "language": "python",
   "name": "python3"
  },
  "language_info": {
   "name": "python",
   "version": "3.9.6"
  },
  "orig_nbformat": 4
 },
 "nbformat": 4,
 "nbformat_minor": 2
}
